{
  "nbformat": 4,
  "nbformat_minor": 0,
  "metadata": {
    "colab": {
      "provenance": [],
      "toc_visible": true,
      "authorship_tag": "ABX9TyPMSMz/HN2pz++QOT0VceGI",
      "include_colab_link": true
    },
    "kernelspec": {
      "name": "python3",
      "display_name": "Python 3"
    },
    "language_info": {
      "name": "python"
    }
  },
  "cells": [
    {
      "cell_type": "markdown",
      "metadata": {
        "id": "view-in-github",
        "colab_type": "text"
      },
      "source": [
        "<a href=\"https://colab.research.google.com/github/VenkatBodapati/Python/blob/main/PythonBasics.ipynb\" target=\"_parent\"><img src=\"https://colab.research.google.com/assets/colab-badge.svg\" alt=\"Open In Colab\"/></a>"
      ]
    },
    {
      "cell_type": "code",
      "execution_count": 2,
      "metadata": {
        "colab": {
          "base_uri": "https://localhost:8080/"
        },
        "id": "NwuQU1eassS5",
        "outputId": "e27e2c35-acfe-4c9a-c6b9-25fd768eadb7"
      },
      "outputs": [
        {
          "output_type": "stream",
          "name": "stdout",
          "text": [
            "3\n"
          ]
        }
      ],
      "source": [
        "a = 3\n",
        "print (a)\n"
      ]
    },
    {
      "cell_type": "code",
      "source": [
        "a = int(input('enter input number'))\n",
        "b = a **2\n",
        "print ('Your result is ', b)\n",
        "## first run\n"
      ],
      "metadata": {
        "colab": {
          "base_uri": "https://localhost:8080/"
        },
        "id": "GHQzW8owszHA",
        "outputId": "b1872ae5-c5f3-4bc8-cd18-07c736ee1eb9"
      },
      "execution_count": 8,
      "outputs": [
        {
          "output_type": "stream",
          "name": "stdout",
          "text": [
            "enter input number4\n",
            "Your result is  16\n"
          ]
        }
      ]
    },
    {
      "cell_type": "code",
      "source": [
        "# This program is example of nested If else\n",
        "\n",
        "marks = int(input('Please enter your score in Maths: '))\n",
        "if marks == 100:\n",
        "  print('Perfect marks!!')\n",
        "elif marks < 100 and marks >= 80:\n",
        "  print('You got distinction')\n",
        "elif marks < 80 and marks >= 60:\n",
        "  print('You got first class')\n",
        "elif marks < 60 and marks >= 35:\n",
        "  print('You have passed')\n",
        "else:\n",
        "  print('Oh boy ! You failed this subject')\n",
        "print('Thank you for checking!')\n"
      ],
      "metadata": {
        "id": "4w-e6lnVtM0Q"
      },
      "execution_count": null,
      "outputs": []
    },
    {
      "cell_type": "code",
      "source": [
        "# This program is example of while Loop\n",
        "\n",
        "counter = 0\n",
        "while counter < 10:\n",
        "  print(counter)\n",
        "  counter+=1\n",
        "print('Thank you')"
      ],
      "metadata": {
        "id": "jtE53bn3zMs0"
      },
      "execution_count": null,
      "outputs": []
    },
    {
      "cell_type": "code",
      "source": [
        "#this program is example of while and If and Break\n",
        "\n",
        "counter = 10\n",
        "\n",
        "while counter > 0:\n",
        "  if counter == 3:\n",
        "    break\n",
        "  else:\n",
        "    print(counter)\n",
        "  counter -= 1\n"
      ],
      "metadata": {
        "id": "38smYaMozjEZ"
      },
      "execution_count": null,
      "outputs": []
    },
    {
      "cell_type": "code",
      "source": [
        "# This  program is example of while and If and continue\n",
        "\n",
        "i = 10\n",
        "while (i > 0):\n",
        "  i-= 1\n",
        "  if i == 4:\n",
        "    continue\n",
        "  print(i)\n",
        "\n"
      ],
      "metadata": {
        "id": "IWARnVZQ0DNZ"
      },
      "execution_count": null,
      "outputs": []
    },
    {
      "cell_type": "code",
      "source": [
        "# for loop\n",
        "a = [10,20,3,0,40,50]\n",
        "\n",
        "for number in a:\n",
        "  print(number)"
      ],
      "metadata": {
        "colab": {
          "base_uri": "https://localhost:8080/"
        },
        "id": "M5yQJ7w41-AN",
        "outputId": "ab26a7e0-30f8-428f-ffce-38dd30a52d4a"
      },
      "execution_count": 24,
      "outputs": [
        {
          "output_type": "stream",
          "name": "stdout",
          "text": [
            "10\n",
            "20\n",
            "3\n",
            "0\n",
            "40\n",
            "50\n"
          ]
        }
      ]
    },
    {
      "cell_type": "code",
      "source": [
        "name = 'Suneel'\n",
        "\n",
        "for word in name:\n",
        "  print(word)"
      ],
      "metadata": {
        "colab": {
          "base_uri": "https://localhost:8080/"
        },
        "id": "XhPFTDbu2KzS",
        "outputId": "811b1786-affd-4967-9011-9ef25a3357c5"
      },
      "execution_count": 25,
      "outputs": [
        {
          "output_type": "stream",
          "name": "stdout",
          "text": [
            "S\n",
            "u\n",
            "n\n",
            "e\n",
            "e\n",
            "l\n"
          ]
        }
      ]
    },
    {
      "cell_type": "markdown",
      "source": [],
      "metadata": {
        "id": "abgWinlpzH6I"
      }
    },
    {
      "cell_type": "code",
      "source": [
        "name = 'Suneel'\n",
        "\n",
        "for word in name:\n",
        "  if word == 'e':\n",
        "    continue\n",
        "  else:\n",
        "    print(word)"
      ],
      "metadata": {
        "colab": {
          "base_uri": "https://localhost:8080/"
        },
        "id": "OhmkUSzL2JgT",
        "outputId": "00777752-ae8a-46d6-8c6f-b3c570e911c4"
      },
      "execution_count": 27,
      "outputs": [
        {
          "output_type": "stream",
          "name": "stdout",
          "text": [
            "S\n",
            "u\n",
            "n\n",
            "l\n"
          ]
        }
      ]
    },
    {
      "cell_type": "code",
      "source": [
        "name = 'Suneel'\n",
        "\n",
        "for word in name:\n",
        "  if word == 'e':\n",
        "    break\n",
        "  else:\n",
        "    print(word)"
      ],
      "metadata": {
        "colab": {
          "base_uri": "https://localhost:8080/"
        },
        "id": "PWIxfkIX2bW_",
        "outputId": "975b6050-2cd4-4586-ace5-a97f89679a68"
      },
      "execution_count": 28,
      "outputs": [
        {
          "output_type": "stream",
          "name": "stdout",
          "text": [
            "S\n",
            "u\n",
            "n\n"
          ]
        }
      ]
    },
    {
      "cell_type": "code",
      "source": [
        "name = 'Sreshtitha'\n",
        "name_list = []\n",
        "for i in name:\n",
        "  name_list.append(i)\n",
        "print(name_list)\n",
        "\n"
      ],
      "metadata": {
        "colab": {
          "base_uri": "https://localhost:8080/"
        },
        "id": "Fbuww_zl2uMg",
        "outputId": "3f1025ff-dd0b-4533-8b1e-4fe5e8e160a8"
      },
      "execution_count": 1,
      "outputs": [
        {
          "output_type": "stream",
          "name": "stdout",
          "text": [
            "['S', 'r', 'e', 's', 'h', 't', 'i', 't', 'h', 'a']\n"
          ]
        }
      ]
    },
    {
      "cell_type": "code",
      "source": [],
      "metadata": {
        "colab": {
          "base_uri": "https://localhost:8080/",
          "height": 165
        },
        "id": "CJCg_3kozfa8",
        "outputId": "d6dab0f2-299a-4494-aee6-ba0f478005cd"
      },
      "execution_count": 2,
      "outputs": [
        {
          "output_type": "error",
          "ename": "TypeError",
          "evalue": "ignored",
          "traceback": [
            "\u001b[0;31m---------------------------------------------------------------------------\u001b[0m",
            "\u001b[0;31mTypeError\u001b[0m                                 Traceback (most recent call last)",
            "\u001b[0;32m<ipython-input-2-5690571c14e0>\u001b[0m in \u001b[0;36m<cell line: 1>\u001b[0;34m()\u001b[0m\n\u001b[0;32m----> 1\u001b[0;31m \u001b[0mprint\u001b[0m\u001b[0;34m(\u001b[0m\u001b[0mname_list\u001b[0m\u001b[0;34m(\u001b[0m\u001b[0;36m0\u001b[0m\u001b[0;34m)\u001b[0m\u001b[0;34m)\u001b[0m\u001b[0;34m\u001b[0m\u001b[0;34m\u001b[0m\u001b[0m\n\u001b[0m",
            "\u001b[0;31mTypeError\u001b[0m: 'list' object is not callable"
          ]
        }
      ]
    },
    {
      "cell_type": "code",
      "source": [
        "print(name_list[0])"
      ],
      "metadata": {
        "colab": {
          "base_uri": "https://localhost:8080/"
        },
        "id": "s58XNAiHzvqQ",
        "outputId": "6c2a99fc-b19d-40fc-829b-56f722484308"
      },
      "execution_count": 3,
      "outputs": [
        {
          "output_type": "stream",
          "name": "stdout",
          "text": [
            "S\n"
          ]
        }
      ]
    },
    {
      "cell_type": "code",
      "source": [
        "print(name_list[-1])"
      ],
      "metadata": {
        "colab": {
          "base_uri": "https://localhost:8080/"
        },
        "id": "UYA6223sz0Q3",
        "outputId": "4e96a161-0b89-4936-a344-231aaf106262"
      },
      "execution_count": 4,
      "outputs": [
        {
          "output_type": "stream",
          "name": "stdout",
          "text": [
            "a\n"
          ]
        }
      ]
    },
    {
      "cell_type": "code",
      "source": [
        "name_list_even = []\n",
        "name_list_odd = []\n",
        "for i in range(0,len(name_list)):\n",
        "  if i%2 == 0:\n",
        "    name_list_even.append(name_list[i])\n",
        "  else:\n",
        "    name_list_odd.append(name_list[i])\n",
        "\n",
        "\n",
        "print('Below are the even charancters of your name')\n",
        "print(name_list_even)\n",
        "\n",
        "print('Below are the Odd charancters of your name')\n",
        "print(name_list_odd)"
      ],
      "metadata": {
        "colab": {
          "base_uri": "https://localhost:8080/"
        },
        "id": "3Cq1Afm-z2VZ",
        "outputId": "bb594ae0-90cc-40cb-d78d-79040e662027"
      },
      "execution_count": 43,
      "outputs": [
        {
          "output_type": "stream",
          "name": "stdout",
          "text": [
            "Below are the even charancters of your name\n",
            "['S', 'e', 'h', 'i', 'h']\n",
            "Below are the Odd charancters of your name\n",
            "['r', 's', 't', 't', 'a']\n"
          ]
        }
      ]
    },
    {
      "cell_type": "code",
      "source": [
        "name_list_even.sort()"
      ],
      "metadata": {
        "id": "1N89wDxn0M_m"
      },
      "execution_count": 18,
      "outputs": []
    },
    {
      "cell_type": "code",
      "source": [
        "print(name_list_even.reverse())"
      ],
      "metadata": {
        "colab": {
          "base_uri": "https://localhost:8080/"
        },
        "id": "Lib3uarv2bUM",
        "outputId": "cfff77d3-9fc4-4358-9e53-109a553b6998"
      },
      "execution_count": 20,
      "outputs": [
        {
          "output_type": "stream",
          "name": "stdout",
          "text": [
            "None\n"
          ]
        }
      ]
    },
    {
      "cell_type": "code",
      "source": [
        "print(name_list_even)\n",
        "print(name_list_odd)"
      ],
      "metadata": {
        "colab": {
          "base_uri": "https://localhost:8080/"
        },
        "id": "GWpkELbp2sDw",
        "outputId": "1b4b84fe-8fda-4512-fc6e-8f79d9578aa6"
      },
      "execution_count": 25,
      "outputs": [
        {
          "output_type": "stream",
          "name": "stdout",
          "text": [
            "['i', 'h', 'h', 'e', 'S']\n",
            "['r', 's', 't', 't', 'a']\n"
          ]
        }
      ]
    },
    {
      "cell_type": "code",
      "source": [
        "name_list_final = []\n",
        "F_list_count = len(name_list_even) + len(name_list_odd)\n",
        "print(F_list_count)"
      ],
      "metadata": {
        "colab": {
          "base_uri": "https://localhost:8080/"
        },
        "id": "B36ul2--24VI",
        "outputId": "aed279c4-f2d4-47e8-8ea2-2be6d8ab223f"
      },
      "execution_count": 44,
      "outputs": [
        {
          "output_type": "stream",
          "name": "stdout",
          "text": [
            "10\n"
          ]
        }
      ]
    },
    {
      "cell_type": "code",
      "source": [
        "for i in range(0,F_list_count):\n",
        "  if i < len(name_list_even):\n",
        "    name_list_final.append(name_list_even[i])\n",
        "  if i < len(name_list_odd):\n",
        "    name_list_final.append(name_list_odd[i])\n",
        "print(name_list_final)"
      ],
      "metadata": {
        "colab": {
          "base_uri": "https://localhost:8080/"
        },
        "id": "u7sHpkkv5daU",
        "outputId": "1fdc899a-38a6-4643-9c5a-d651de978feb"
      },
      "execution_count": 45,
      "outputs": [
        {
          "output_type": "stream",
          "name": "stdout",
          "text": [
            "['S', 'r', 'e', 's', 'h', 't', 'i', 't', 'h', 'a']\n"
          ]
        }
      ]
    },
    {
      "cell_type": "code",
      "source": [
        "F_name = ''\n",
        "for i in range(0,len(name_list_final)):\n",
        "  F_name = F_name + name_list_final[i]\n",
        "print(F_name)"
      ],
      "metadata": {
        "colab": {
          "base_uri": "https://localhost:8080/"
        },
        "id": "gQ9a6KBs6Dtx",
        "outputId": "08c48cf7-74ec-4cbe-9d45-5dc708c12988"
      },
      "execution_count": 47,
      "outputs": [
        {
          "output_type": "stream",
          "name": "stdout",
          "text": [
            "Sreshtitha\n"
          ]
        }
      ]
    },
    {
      "cell_type": "code",
      "source": [
        "F_name.upper()"
      ],
      "metadata": {
        "colab": {
          "base_uri": "https://localhost:8080/",
          "height": 35
        },
        "id": "CL26xDta9LFx",
        "outputId": "eea90cc1-6d27-4b69-dca5-8278c66ec316"
      },
      "execution_count": 48,
      "outputs": [
        {
          "output_type": "execute_result",
          "data": {
            "text/plain": [
              "'SRESHTITHA'"
            ],
            "application/vnd.google.colaboratory.intrinsic+json": {
              "type": "string"
            }
          },
          "metadata": {},
          "execution_count": 48
        }
      ]
    },
    {
      "cell_type": "code",
      "source": [
        "print(F_name)"
      ],
      "metadata": {
        "colab": {
          "base_uri": "https://localhost:8080/"
        },
        "id": "uW5cA_3I9YxJ",
        "outputId": "be5b12b8-f24a-41d4-c00d-af7ae302650b"
      },
      "execution_count": 50,
      "outputs": [
        {
          "output_type": "stream",
          "name": "stdout",
          "text": [
            "Sreshtitha\n"
          ]
        }
      ]
    },
    {
      "cell_type": "code",
      "source": [
        "lst = [0,1,2,3,4,5]\n",
        "print(lst[:-1])\n",
        "print(lst[::-1])"
      ],
      "metadata": {
        "colab": {
          "base_uri": "https://localhost:8080/"
        },
        "id": "kq9W4-Vj9dTN",
        "outputId": "c0154011-dde1-4561-f617-93d0d5af1552"
      },
      "execution_count": 54,
      "outputs": [
        {
          "output_type": "stream",
          "name": "stdout",
          "text": [
            "[0, 1, 2, 3, 4]\n",
            "[5, 4, 3, 2, 1, 0]\n"
          ]
        }
      ]
    },
    {
      "cell_type": "code",
      "source": [],
      "metadata": {
        "id": "ammgj1PsULXM"
      },
      "execution_count": null,
      "outputs": []
    }
  ]
}